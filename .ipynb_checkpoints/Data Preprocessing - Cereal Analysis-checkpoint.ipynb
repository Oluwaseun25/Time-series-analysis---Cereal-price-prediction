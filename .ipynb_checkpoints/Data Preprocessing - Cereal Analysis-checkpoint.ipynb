{
 "cells": [
  {
   "cell_type": "markdown",
   "metadata": {},
   "source": [
    "# Data Preprocessing, Transformation, and Management\n",
    "\n",
    "This document outlines the tasks and steps necessary to prepare a clean and well-structured dataset suitable for analysis and modeling.\n",
    "\n",
    "## 1. Data Cleaning\n",
    "Address the following to ensure dataset quality:\n",
    "- **Missing Values**:  \n",
    "  - Identify missing values.\n",
    "  - Develop strategies to handle missing values (e.g., deletion, imputation, maximum likelihood).\n",
    "- **Outliers**:  \n",
    "  - Detect outliers in numerical features.\n",
    "  - Develop strategies for handling outliers (e.g., trimming, inclusion).\n",
    "- **Numerical Data Coding**:  \n",
    "  - Assess the need for binning, rescaling, or encoding transformations.\n",
    "- **Character Data Processing**:  \n",
    "  - Standardize formats (e.g., convert to lowercase).\n",
    "  - Use regular expressions for text cleaning or pattern matching.\n",
    "- **Data Integrity**:  \n",
    "  - Ensure entity integrity, referential integrity, and type consistency.\n",
    "  - Validate formats and check for values within acceptable bounds.\n",
    "\n",
    "## 2. Data Reshaping\n",
    "Evaluate the need for reshaping data for analysis:\n",
    "- **Maneuvers**:  \n",
    "  - Perform operations like subsetting, aggregating, sorting, or normalization as required.\n",
    "- **Data Assembly**:  \n",
    "  - Determine if data needs to be combined from multiple sources.\n",
    "  - Use appropriate mechanisms for merging or joining datasets.\n",
    "\n",
    "## 3. Data Management\n",
    "Develop a structured plan for effective data handling:\n",
    "- **Metadata**:  \n",
    "  - Identify available and required metadata.\n",
    "  - Adhere to relevant metadata standards.\n",
    "- **Data Structuring**:  \n",
    "  - Define the structure for data to support analyses.\n",
    "- **Access, Sharing, and Reuse Policies**:  \n",
    "  - Establish policies for access control, data sharing, and reuse.\n",
    "- **Short-Term Management Plan**:  \n",
    "  - Address version control, backups, and data security.\n",
    "\n",
    "---"
   ]
  },
  {
   "cell_type": "code",
   "execution_count": 56,
   "metadata": {
    "executionInfo": {
     "elapsed": 627,
     "status": "ok",
     "timestamp": 1739886017525,
     "user": {
      "displayName": "Samuel Awe",
      "userId": "02298225227465386452"
     },
     "user_tz": -60
    },
    "id": "bFxv5TQevgRZ"
   },
   "outputs": [],
   "source": [
    "# import libraries\n",
    "import pandas as pd\n",
    "import numpy as np\n",
    "import seaborn as sns\n",
    "import matplotlib.pyplot as plt"
   ]
  },
  {
   "cell_type": "code",
   "execution_count": 57,
   "metadata": {
    "executionInfo": {
     "elapsed": 514,
     "status": "ok",
     "timestamp": 1739883119299,
     "user": {
      "displayName": "Samuel Awe",
      "userId": "02298225227465386452"
     },
     "user_tz": -60
    },
    "id": "ZSPh-qG_GhQ1"
   },
   "outputs": [],
   "source": [
    "df = pd.read_csv(\"wfp_food_prices_nga.csv\")"
   ]
  },
  {
   "cell_type": "code",
   "execution_count": 58,
   "metadata": {
    "colab": {
     "base_uri": "https://localhost:8080/",
     "height": 652
    },
    "executionInfo": {
     "elapsed": 509,
     "status": "ok",
     "timestamp": 1739883125547,
     "user": {
      "displayName": "Samuel Awe",
      "userId": "02298225227465386452"
     },
     "user_tz": -60
    },
    "id": "H_WRqbFDGhgl",
    "outputId": "3d61b169-bac8-411d-c5e4-6a7f39bc0501"
   },
   "outputs": [
    {
     "data": {
      "text/html": [
       "<div>\n",
       "<style scoped>\n",
       "    .dataframe tbody tr th:only-of-type {\n",
       "        vertical-align: middle;\n",
       "    }\n",
       "\n",
       "    .dataframe tbody tr th {\n",
       "        vertical-align: top;\n",
       "    }\n",
       "\n",
       "    .dataframe thead th {\n",
       "        text-align: right;\n",
       "    }\n",
       "</style>\n",
       "<table border=\"1\" class=\"dataframe\">\n",
       "  <thead>\n",
       "    <tr style=\"text-align: right;\">\n",
       "      <th></th>\n",
       "      <th>Date</th>\n",
       "      <th>State</th>\n",
       "      <th>LGA</th>\n",
       "      <th>Local Market Name</th>\n",
       "      <th>latitude</th>\n",
       "      <th>longitude</th>\n",
       "      <th>category</th>\n",
       "      <th>commodity name</th>\n",
       "      <th>unit</th>\n",
       "      <th>priceflag</th>\n",
       "      <th>pricetype</th>\n",
       "      <th>price (NGN)</th>\n",
       "      <th>usdprice</th>\n",
       "    </tr>\n",
       "  </thead>\n",
       "  <tbody>\n",
       "    <tr>\n",
       "      <th>0</th>\n",
       "      <td>1/15/2002</td>\n",
       "      <td>Katsina</td>\n",
       "      <td>Jibia</td>\n",
       "      <td>Jibia (CBM)</td>\n",
       "      <td>13.080000</td>\n",
       "      <td>7.240000</td>\n",
       "      <td>cereals and tubers</td>\n",
       "      <td>Maize</td>\n",
       "      <td>KG</td>\n",
       "      <td>actual</td>\n",
       "      <td>Wholesale</td>\n",
       "      <td>175.92</td>\n",
       "      <td>1.5398</td>\n",
       "    </tr>\n",
       "    <tr>\n",
       "      <th>1</th>\n",
       "      <td>1/15/2002</td>\n",
       "      <td>Katsina</td>\n",
       "      <td>Jibia</td>\n",
       "      <td>Jibia (CBM)</td>\n",
       "      <td>13.080000</td>\n",
       "      <td>7.240000</td>\n",
       "      <td>cereals and tubers</td>\n",
       "      <td>Millet</td>\n",
       "      <td>KG</td>\n",
       "      <td>actual</td>\n",
       "      <td>Wholesale</td>\n",
       "      <td>150.18</td>\n",
       "      <td>1.3145</td>\n",
       "    </tr>\n",
       "    <tr>\n",
       "      <th>2</th>\n",
       "      <td>1/15/2002</td>\n",
       "      <td>Katsina</td>\n",
       "      <td>Jibia</td>\n",
       "      <td>Jibia (CBM)</td>\n",
       "      <td>13.080000</td>\n",
       "      <td>7.240000</td>\n",
       "      <td>cereals and tubers</td>\n",
       "      <td>Rice (imported)</td>\n",
       "      <td>KG</td>\n",
       "      <td>actual</td>\n",
       "      <td>Wholesale</td>\n",
       "      <td>358.70</td>\n",
       "      <td>3.1396</td>\n",
       "    </tr>\n",
       "    <tr>\n",
       "      <th>3</th>\n",
       "      <td>1/15/2002</td>\n",
       "      <td>Katsina</td>\n",
       "      <td>Jibia</td>\n",
       "      <td>Jibia (CBM)</td>\n",
       "      <td>13.080000</td>\n",
       "      <td>7.240000</td>\n",
       "      <td>cereals and tubers</td>\n",
       "      <td>Sorghum</td>\n",
       "      <td>KG</td>\n",
       "      <td>actual</td>\n",
       "      <td>Wholesale</td>\n",
       "      <td>155.61</td>\n",
       "      <td>1.3620</td>\n",
       "    </tr>\n",
       "    <tr>\n",
       "      <th>4</th>\n",
       "      <td>1/15/2002</td>\n",
       "      <td>Katsina</td>\n",
       "      <td>Jibia</td>\n",
       "      <td>Jibia (CBM)</td>\n",
       "      <td>13.080000</td>\n",
       "      <td>7.240000</td>\n",
       "      <td>pulses and nuts</td>\n",
       "      <td>Beans (niebe)</td>\n",
       "      <td>KG</td>\n",
       "      <td>actual</td>\n",
       "      <td>Wholesale</td>\n",
       "      <td>196.87</td>\n",
       "      <td>1.7231</td>\n",
       "    </tr>\n",
       "    <tr>\n",
       "      <th>...</th>\n",
       "      <td>...</td>\n",
       "      <td>...</td>\n",
       "      <td>...</td>\n",
       "      <td>...</td>\n",
       "      <td>...</td>\n",
       "      <td>...</td>\n",
       "      <td>...</td>\n",
       "      <td>...</td>\n",
       "      <td>...</td>\n",
       "      <td>...</td>\n",
       "      <td>...</td>\n",
       "      <td>...</td>\n",
       "      <td>...</td>\n",
       "    </tr>\n",
       "    <tr>\n",
       "      <th>50944</th>\n",
       "      <td>6/15/2024</td>\n",
       "      <td>Yobe</td>\n",
       "      <td>Yusufari</td>\n",
       "      <td>Yusufari</td>\n",
       "      <td>13.062665</td>\n",
       "      <td>11.171371</td>\n",
       "      <td>oil and fats</td>\n",
       "      <td>Oil (vegetable)</td>\n",
       "      <td>L</td>\n",
       "      <td>aggregate</td>\n",
       "      <td>Retail</td>\n",
       "      <td>2000.00</td>\n",
       "      <td>2.5999</td>\n",
       "    </tr>\n",
       "    <tr>\n",
       "      <th>50945</th>\n",
       "      <td>6/15/2024</td>\n",
       "      <td>Yobe</td>\n",
       "      <td>Yusufari</td>\n",
       "      <td>Yusufari</td>\n",
       "      <td>13.062665</td>\n",
       "      <td>11.171371</td>\n",
       "      <td>pulses and nuts</td>\n",
       "      <td>Beans (white)</td>\n",
       "      <td>2.5 KG</td>\n",
       "      <td>aggregate</td>\n",
       "      <td>Retail</td>\n",
       "      <td>4875.00</td>\n",
       "      <td>6.3373</td>\n",
       "    </tr>\n",
       "    <tr>\n",
       "      <th>50946</th>\n",
       "      <td>6/15/2024</td>\n",
       "      <td>Yobe</td>\n",
       "      <td>Yusufari</td>\n",
       "      <td>Yusufari</td>\n",
       "      <td>13.062665</td>\n",
       "      <td>11.171371</td>\n",
       "      <td>pulses and nuts</td>\n",
       "      <td>Groundnuts</td>\n",
       "      <td>2.5 KG</td>\n",
       "      <td>aggregate</td>\n",
       "      <td>Retail</td>\n",
       "      <td>3462.50</td>\n",
       "      <td>4.5011</td>\n",
       "    </tr>\n",
       "    <tr>\n",
       "      <th>50947</th>\n",
       "      <td>6/15/2024</td>\n",
       "      <td>Yobe</td>\n",
       "      <td>Yusufari</td>\n",
       "      <td>Yusufari</td>\n",
       "      <td>13.062665</td>\n",
       "      <td>11.171371</td>\n",
       "      <td>vegetables and fruits</td>\n",
       "      <td>Onions</td>\n",
       "      <td>0.5 KG</td>\n",
       "      <td>aggregate</td>\n",
       "      <td>Retail</td>\n",
       "      <td>381.25</td>\n",
       "      <td>0.4956</td>\n",
       "    </tr>\n",
       "    <tr>\n",
       "      <th>50948</th>\n",
       "      <td>6/15/2024</td>\n",
       "      <td>Yobe</td>\n",
       "      <td>Yusufari</td>\n",
       "      <td>Yusufari</td>\n",
       "      <td>13.062665</td>\n",
       "      <td>11.171371</td>\n",
       "      <td>vegetables and fruits</td>\n",
       "      <td>Oranges</td>\n",
       "      <td>400 G</td>\n",
       "      <td>aggregate</td>\n",
       "      <td>Retail</td>\n",
       "      <td>250.00</td>\n",
       "      <td>0.3250</td>\n",
       "    </tr>\n",
       "  </tbody>\n",
       "</table>\n",
       "<p>50949 rows × 13 columns</p>\n",
       "</div>"
      ],
      "text/plain": [
       "            Date    State       LGA Local Market Name   latitude  longitude  \\\n",
       "0      1/15/2002  Katsina     Jibia       Jibia (CBM)  13.080000   7.240000   \n",
       "1      1/15/2002  Katsina     Jibia       Jibia (CBM)  13.080000   7.240000   \n",
       "2      1/15/2002  Katsina     Jibia       Jibia (CBM)  13.080000   7.240000   \n",
       "3      1/15/2002  Katsina     Jibia       Jibia (CBM)  13.080000   7.240000   \n",
       "4      1/15/2002  Katsina     Jibia       Jibia (CBM)  13.080000   7.240000   \n",
       "...          ...      ...       ...               ...        ...        ...   \n",
       "50944  6/15/2024     Yobe  Yusufari          Yusufari  13.062665  11.171371   \n",
       "50945  6/15/2024     Yobe  Yusufari          Yusufari  13.062665  11.171371   \n",
       "50946  6/15/2024     Yobe  Yusufari          Yusufari  13.062665  11.171371   \n",
       "50947  6/15/2024     Yobe  Yusufari          Yusufari  13.062665  11.171371   \n",
       "50948  6/15/2024     Yobe  Yusufari          Yusufari  13.062665  11.171371   \n",
       "\n",
       "                    category   commodity name    unit  priceflag  pricetype  \\\n",
       "0         cereals and tubers            Maize      KG     actual  Wholesale   \n",
       "1         cereals and tubers           Millet      KG     actual  Wholesale   \n",
       "2         cereals and tubers  Rice (imported)      KG     actual  Wholesale   \n",
       "3         cereals and tubers          Sorghum      KG     actual  Wholesale   \n",
       "4            pulses and nuts    Beans (niebe)      KG     actual  Wholesale   \n",
       "...                      ...              ...     ...        ...        ...   \n",
       "50944           oil and fats  Oil (vegetable)       L  aggregate     Retail   \n",
       "50945        pulses and nuts    Beans (white)  2.5 KG  aggregate     Retail   \n",
       "50946        pulses and nuts       Groundnuts  2.5 KG  aggregate     Retail   \n",
       "50947  vegetables and fruits           Onions  0.5 KG  aggregate     Retail   \n",
       "50948  vegetables and fruits          Oranges   400 G  aggregate     Retail   \n",
       "\n",
       "       price (NGN)  usdprice  \n",
       "0           175.92    1.5398  \n",
       "1           150.18    1.3145  \n",
       "2           358.70    3.1396  \n",
       "3           155.61    1.3620  \n",
       "4           196.87    1.7231  \n",
       "...            ...       ...  \n",
       "50944      2000.00    2.5999  \n",
       "50945      4875.00    6.3373  \n",
       "50946      3462.50    4.5011  \n",
       "50947       381.25    0.4956  \n",
       "50948       250.00    0.3250  \n",
       "\n",
       "[50949 rows x 13 columns]"
      ]
     },
     "execution_count": 58,
     "metadata": {},
     "output_type": "execute_result"
    }
   ],
   "source": [
    "df"
   ]
  },
  {
   "cell_type": "markdown",
   "metadata": {
    "executionInfo": {
     "elapsed": 506,
     "status": "ok",
     "timestamp": 1739883392197,
     "user": {
      "displayName": "Samuel Awe",
      "userId": "02298225227465386452"
     },
     "user_tz": -60
    },
    "id": "tNRoCJVhGhkF"
   },
   "source": [
    "## Data Inspection"
   ]
  },
  {
   "cell_type": "code",
   "execution_count": 59,
   "metadata": {
    "colab": {
     "base_uri": "https://localhost:8080/"
    },
    "executionInfo": {
     "elapsed": 660,
     "status": "ok",
     "timestamp": 1739883406721,
     "user": {
      "displayName": "Samuel Awe",
      "userId": "02298225227465386452"
     },
     "user_tz": -60
    },
    "id": "Db5GRwrpGhn-",
    "outputId": "765073b7-c3b3-4e84-9d71-80b61ab9e3c9"
   },
   "outputs": [
    {
     "data": {
      "text/plain": [
       "(50949, 13)"
      ]
     },
     "execution_count": 59,
     "metadata": {},
     "output_type": "execute_result"
    }
   ],
   "source": [
    "# shape of the data\n",
    "df.shape"
   ]
  },
  {
   "cell_type": "code",
   "execution_count": 60,
   "metadata": {
    "colab": {
     "base_uri": "https://localhost:8080/"
    },
    "executionInfo": {
     "elapsed": 592,
     "status": "ok",
     "timestamp": 1739883415235,
     "user": {
      "displayName": "Samuel Awe",
      "userId": "02298225227465386452"
     },
     "user_tz": -60
    },
    "id": "0oLs6x7yId2M",
    "outputId": "5a6d6598-78e3-413e-ab79-4afabdb8b7ad"
   },
   "outputs": [
    {
     "data": {
      "text/plain": [
       "Index(['Date', 'State', 'LGA', 'Local Market Name', 'latitude', 'longitude',\n",
       "       'category', 'commodity name', 'unit', 'priceflag', 'pricetype',\n",
       "       'price (NGN)', 'usdprice'],\n",
       "      dtype='object')"
      ]
     },
     "execution_count": 60,
     "metadata": {},
     "output_type": "execute_result"
    }
   ],
   "source": [
    "df.columns"
   ]
  },
  {
   "cell_type": "code",
   "execution_count": 61,
   "metadata": {
    "colab": {
     "base_uri": "https://localhost:8080/"
    },
    "executionInfo": {
     "elapsed": 500,
     "status": "ok",
     "timestamp": 1739883446250,
     "user": {
      "displayName": "Samuel Awe",
      "userId": "02298225227465386452"
     },
     "user_tz": -60
    },
    "id": "yOoVbq0bIf73",
    "outputId": "73d36ceb-7eca-4a93-9a72-5f2a250b53a5"
   },
   "outputs": [
    {
     "name": "stdout",
     "output_type": "stream",
     "text": [
      "<class 'pandas.core.frame.DataFrame'>\n",
      "RangeIndex: 50949 entries, 0 to 50948\n",
      "Data columns (total 13 columns):\n",
      " #   Column             Non-Null Count  Dtype  \n",
      "---  ------             --------------  -----  \n",
      " 0   Date               50949 non-null  object \n",
      " 1   State              50949 non-null  object \n",
      " 2   LGA                50949 non-null  object \n",
      " 3   Local Market Name  50949 non-null  object \n",
      " 4   latitude           50949 non-null  float64\n",
      " 5   longitude          50949 non-null  float64\n",
      " 6   category           50949 non-null  object \n",
      " 7   commodity name     50949 non-null  object \n",
      " 8   unit               50949 non-null  object \n",
      " 9   priceflag          50949 non-null  object \n",
      " 10  pricetype          50949 non-null  object \n",
      " 11  price (NGN)        50949 non-null  float64\n",
      " 12  usdprice           50949 non-null  float64\n",
      "dtypes: float64(4), object(9)\n",
      "memory usage: 5.1+ MB\n"
     ]
    }
   ],
   "source": [
    "df.info()"
   ]
  },
  {
   "cell_type": "markdown",
   "metadata": {},
   "source": [
    "## Data cleaning"
   ]
  },
  {
   "cell_type": "code",
   "execution_count": 62,
   "metadata": {},
   "outputs": [
    {
     "data": {
      "text/plain": [
       "Date                 0\n",
       "State                0\n",
       "LGA                  0\n",
       "Local Market Name    0\n",
       "latitude             0\n",
       "longitude            0\n",
       "category             0\n",
       "commodity name       0\n",
       "unit                 0\n",
       "priceflag            0\n",
       "pricetype            0\n",
       "price (NGN)          0\n",
       "usdprice             0\n",
       "dtype: int64"
      ]
     },
     "execution_count": 62,
     "metadata": {},
     "output_type": "execute_result"
    }
   ],
   "source": [
    "# checking for missing values\n",
    "df.isna().sum()"
   ]
  },
  {
   "cell_type": "markdown",
   "metadata": {},
   "source": [
    "- There are no missimg values"
   ]
  },
  {
   "cell_type": "code",
   "execution_count": 16,
   "metadata": {
    "colab": {
     "base_uri": "https://localhost:8080/",
     "height": 313
    },
    "executionInfo": {
     "elapsed": 4177,
     "status": "ok",
     "timestamp": 1739883690780,
     "user": {
      "displayName": "Samuel Awe",
      "userId": "02298225227465386452"
     },
     "user_tz": -60
    },
    "id": "eMt_-PVkI_-o",
    "outputId": "85386aa2-1c2c-4282-e088-a0b60870c6e2"
   },
   "outputs": [
    {
     "data": {
      "image/png": "[encoded data removed]",
      "text/plain": [
       "<Figure size 2000x800 with 2 Axes>"
      ]
     },
     "metadata": {},
     "output_type": "display_data"
    }
   ],
   "source": [
    "# visualize the missing values\n",
    "plt.figure(figsize = (20, 8))\n",
    "plt.title('visualizing missing values')\n",
    "sns.heatmap(df.isnull(), cbar = True, cmap = 'coolwarm')\n",
    "plt.show()"
   ]
  },
  {
   "cell_type": "code",
   "execution_count": 49,
   "metadata": {
    "colab": {
     "base_uri": "https://localhost:8080/"
    },
    "executionInfo": {
     "elapsed": 540,
     "status": "ok",
     "timestamp": 1739883511127,
     "user": {
      "displayName": "Samuel Awe",
      "userId": "02298225227465386452"
     },
     "user_tz": -60
    },
    "id": "O5E1aZL8InqO",
    "outputId": "92262165-b476-44b9-8c26-bedcdf5c65f0"
   },
   "outputs": [
    {
     "data": {
      "text/plain": [
       "0"
      ]
     },
     "execution_count": 49,
     "metadata": {},
     "output_type": "execute_result"
    }
   ],
   "source": [
    "# Check for duplicates\n",
    "df.duplicated().sum()"
   ]
  },
  {
   "cell_type": "markdown",
   "metadata": {},
   "source": [
    "## Data Reshaping"
   ]
  },
  {
   "cell_type": "markdown",
   "metadata": {},
   "source": [
    "### Data Filtering/Subsetting"
   ]
  },
  {
   "cell_type": "markdown",
   "metadata": {},
   "source": [
    "We have a dataset containing information about **42 types of commodities**, but our analysis focuses on only **4 specific commodities and thier types**:  \n",
    "- **Millet**  \n",
    "- **Sorghum**  \n",
    "- **Rice**\n",
    "- **Maize** \n",
    "\n",
    "To prepare the data for analysis, we need to:  \n",
    "1. **Filter** the dataset to include only rows corresponding to these 3 car types.  \n",
    "2. **Handle outliers** within this filtered subset.\n",
    "\n",
    "---"
   ]
  },
  {
   "cell_type": "code",
   "execution_count": 63,
   "metadata": {
    "colab": {
     "base_uri": "https://localhost:8080/",
     "height": 366
    },
    "executionInfo": {
     "elapsed": 725,
     "status": "ok",
     "timestamp": 1739883991351,
     "user": {
      "displayName": "Samuel Awe",
      "userId": "02298225227465386452"
     },
     "user_tz": -60
    },
    "id": "F1C3HGVxKUiG",
    "outputId": "24360e93-a6b8-4ea2-a450-7580777f500b"
   },
   "outputs": [
    {
     "data": {
      "text/plain": [
       "category\n",
       "cereals and tubers       24159\n",
       "pulses and nuts           8609\n",
       "vegetables and fruits     5963\n",
       "meat, fish and eggs       4226\n",
       "oil and fats              3025\n",
       "non-food                  2011\n",
       "miscellaneous food        1887\n",
       "milk and dairy            1069\n",
       "Name: count, dtype: int64"
      ]
     },
     "execution_count": 63,
     "metadata": {},
     "output_type": "execute_result"
    }
   ],
   "source": [
    "# Unique values of cereals\n",
    "df.category.value_counts()"
   ]
  },
  {
   "cell_type": "code",
   "execution_count": 64,
   "metadata": {
    "colab": {
     "base_uri": "https://localhost:8080/",
     "height": 1000
    },
    "executionInfo": {
     "elapsed": 571,
     "status": "ok",
     "timestamp": 1739884152236,
     "user": {
      "displayName": "Samuel Awe",
      "userId": "02298225227465386452"
     },
     "user_tz": -60
    },
    "id": "TEVa4G8LKjWd",
    "outputId": "8696ccce-1639-4c00-adea-e677addae612"
   },
   "outputs": [
    {
     "data": {
      "text/plain": [
       "commodity name\n",
       "Millet                         3036\n",
       "Rice (imported)                2782\n",
       "Rice (local)                   2585\n",
       "Yam                            2516\n",
       "Oil (palm)                     1924\n",
       "Sorghum (white)                1705\n",
       "Groundnuts (shelled)           1541\n",
       "Maize (white)                  1528\n",
       "Cowpeas (white)                1501\n",
       "Gari (white)                   1438\n",
       "Sorghum                        1427\n",
       "Cowpeas (brown)                1419\n",
       "Sorghum (brown)                1414\n",
       "Maize (yellow)                 1413\n",
       "Cassava meal (gari, yellow)    1297\n",
       "Bread                          1253\n",
       "Beans (white)                  1117\n",
       "Oil (vegetable)                1101\n",
       "Meat (beef)                    1101\n",
       "Groundnuts                     1083\n",
       "Beans (red)                    1080\n",
       "Milk (powder)                  1069\n",
       "Fish                           1052\n",
       "Onions                         1051\n",
       "Meat (goat)                    1050\n",
       "Oranges                        1032\n",
       "Eggs                           1023\n",
       "Fuel (petrol-gasoline)         1017\n",
       "Maize flour                     999\n",
       "Watermelons                     998\n",
       "Tomatoes                        998\n",
       "Fuel (diesel)                   994\n",
       "Sugar                           967\n",
       "Bananas                         962\n",
       "Spinach                         922\n",
       "Salt                            920\n",
       "Cowpeas                         853\n",
       "Maize                           451\n",
       "Rice (milled, local)            228\n",
       "Yam (Abuja)                      47\n",
       "Wheat                            40\n",
       "Beans (niebe)                    15\n",
       "Name: count, dtype: int64"
      ]
     },
     "execution_count": 64,
     "metadata": {},
     "output_type": "execute_result"
    }
   ],
   "source": [
    "df['commodity name'].value_counts()"
   ]
  },
  {
   "cell_type": "code",
   "execution_count": 65,
   "metadata": {
    "executionInfo": {
     "elapsed": 513,
     "status": "ok",
     "timestamp": 1739884886209,
     "user": {
      "displayName": "Samuel Awe",
      "userId": "02298225227465386452"
     },
     "user_tz": -60
    },
    "id": "Xe4HWi6cLCLa"
   },
   "outputs": [],
   "source": [
    "df2 = df.copy()"
   ]
  },
  {
   "cell_type": "code",
   "execution_count": 66,
   "metadata": {
    "executionInfo": {
     "elapsed": 617,
     "status": "ok",
     "timestamp": 1739885320285,
     "user": {
      "displayName": "Samuel Awe",
      "userId": "02298225227465386452"
     },
     "user_tz": -60
    },
    "id": "xO_et_2ELhjF"
   },
   "outputs": [],
   "source": [
    "'''target_commodities = ['Rice (local)','Rice (imported)',\n",
    "                      'Rice (milled, local)','Millet',\n",
    "                      'sorghum', 'Maize (white)','Maize (yellow)']\n",
    "df2 = df2[df2['commodity name'].str.lower().isin(target_commodities)]'''\n",
    "df_filtered = df2[df2['commodity name'].isin(['Rice (local)','Rice (imported)',\n",
    "                      'Rice (milled, local)','Millet',\n",
    "                      'Sorghum', 'Sorghum (white)', 'Sorghum (brown)','Maize (white)','Maize (yellow)'])]"
   ]
  },
  {
   "cell_type": "code",
   "execution_count": 67,
   "metadata": {
    "colab": {
     "base_uri": "https://localhost:8080/",
     "height": 397
    },
    "executionInfo": {
     "elapsed": 1380,
     "status": "ok",
     "timestamp": 1739885325262,
     "user": {
      "displayName": "Samuel Awe",
      "userId": "02298225227465386452"
     },
     "user_tz": -60
    },
    "id": "E1-HaYHQM71s",
    "outputId": "68249adc-7acb-4c31-8548-971349a92ad4"
   },
   "outputs": [
    {
     "data": {
      "text/plain": [
       "commodity name\n",
       "Millet                  3036\n",
       "Rice (imported)         2782\n",
       "Rice (local)            2585\n",
       "Sorghum (white)         1705\n",
       "Maize (white)           1528\n",
       "Sorghum                 1427\n",
       "Sorghum (brown)         1414\n",
       "Maize (yellow)          1413\n",
       "Rice (milled, local)     228\n",
       "Name: count, dtype: int64"
      ]
     },
     "execution_count": 67,
     "metadata": {},
     "output_type": "execute_result"
    }
   ],
   "source": [
    "df_filtered['commodity name'].value_counts()"
   ]
  },
  {
   "cell_type": "code",
   "execution_count": 68,
   "metadata": {
    "colab": {
     "base_uri": "https://localhost:8080/",
     "height": 147
    },
    "executionInfo": {
     "elapsed": 523,
     "status": "ok",
     "timestamp": 1739885433973,
     "user": {
      "displayName": "Samuel Awe",
      "userId": "02298225227465386452"
     },
     "user_tz": -60
    },
    "id": "4mXvKaDBQHV7",
    "outputId": "c68d4c16-ae0e-4f41-a66d-b24a980138de"
   },
   "outputs": [
    {
     "data": {
      "text/plain": [
       "category\n",
       "cereals and tubers    16118\n",
       "Name: count, dtype: int64"
      ]
     },
     "execution_count": 68,
     "metadata": {},
     "output_type": "execute_result"
    }
   ],
   "source": [
    "df_filtered.category.value_counts()"
   ]
  },
  {
   "cell_type": "code",
   "execution_count": 83,
   "metadata": {},
   "outputs": [
    {
     "data": {
      "text/plain": [
       "(16118, 13)"
      ]
     },
     "execution_count": 83,
     "metadata": {},
     "output_type": "execute_result"
    }
   ],
   "source": [
    "df_filtered.shape"
   ]
  },
  {
   "cell_type": "markdown",
   "metadata": {},
   "source": [
    "## Outlier Detection"
   ]
  },
  {
   "cell_type": "code",
   "execution_count": 69,
   "metadata": {
    "colab": {
     "base_uri": "https://localhost:8080/",
     "height": 300
    },
    "executionInfo": {
     "elapsed": 608,
     "status": "ok",
     "timestamp": 1739883564049,
     "user": {
      "displayName": "Samuel Awe",
      "userId": "02298225227465386452"
     },
     "user_tz": -60
    },
    "id": "SuBVHSutI3iz",
    "outputId": "5fd01bfd-abd7-4fd4-9c38-dfb6cdd4349a"
   },
   "outputs": [
    {
     "data": {
      "text/html": [
       "<div>\n",
       "<style scoped>\n",
       "    .dataframe tbody tr th:only-of-type {\n",
       "        vertical-align: middle;\n",
       "    }\n",
       "\n",
       "    .dataframe tbody tr th {\n",
       "        vertical-align: top;\n",
       "    }\n",
       "\n",
       "    .dataframe thead th {\n",
       "        text-align: right;\n",
       "    }\n",
       "</style>\n",
       "<table border=\"1\" class=\"dataframe\">\n",
       "  <thead>\n",
       "    <tr style=\"text-align: right;\">\n",
       "      <th></th>\n",
       "      <th>latitude</th>\n",
       "      <th>longitude</th>\n",
       "      <th>price (NGN)</th>\n",
       "      <th>usdprice</th>\n",
       "    </tr>\n",
       "  </thead>\n",
       "  <tbody>\n",
       "    <tr>\n",
       "      <th>count</th>\n",
       "      <td>50949.000000</td>\n",
       "      <td>50949.000000</td>\n",
       "      <td>50949.000000</td>\n",
       "      <td>50949.000000</td>\n",
       "    </tr>\n",
       "    <tr>\n",
       "      <th>mean</th>\n",
       "      <td>11.448942</td>\n",
       "      <td>10.442549</td>\n",
       "      <td>5458.884536</td>\n",
       "      <td>16.787907</td>\n",
       "    </tr>\n",
       "    <tr>\n",
       "      <th>std</th>\n",
       "      <td>1.644317</td>\n",
       "      <td>2.923376</td>\n",
       "      <td>11002.238024</td>\n",
       "      <td>32.203546</td>\n",
       "    </tr>\n",
       "    <tr>\n",
       "      <th>min</th>\n",
       "      <td>5.147640</td>\n",
       "      <td>3.401897</td>\n",
       "      <td>1.000000</td>\n",
       "      <td>0.002300</td>\n",
       "    </tr>\n",
       "    <tr>\n",
       "      <th>25%</th>\n",
       "      <td>11.280160</td>\n",
       "      <td>8.429120</td>\n",
       "      <td>200.000000</td>\n",
       "      <td>0.619000</td>\n",
       "    </tr>\n",
       "    <tr>\n",
       "      <th>50%</th>\n",
       "      <td>11.831100</td>\n",
       "      <td>11.499503</td>\n",
       "      <td>468.580000</td>\n",
       "      <td>1.317500</td>\n",
       "    </tr>\n",
       "    <tr>\n",
       "      <th>75%</th>\n",
       "      <td>12.493820</td>\n",
       "      <td>13.123314</td>\n",
       "      <td>4173.910000</td>\n",
       "      <td>18.537700</td>\n",
       "    </tr>\n",
       "    <tr>\n",
       "      <th>max</th>\n",
       "      <td>13.645000</td>\n",
       "      <td>13.913103</td>\n",
       "      <td>138000.000000</td>\n",
       "      <td>453.172200</td>\n",
       "    </tr>\n",
       "  </tbody>\n",
       "</table>\n",
       "</div>"
      ],
      "text/plain": [
       "           latitude     longitude    price (NGN)      usdprice\n",
       "count  50949.000000  50949.000000   50949.000000  50949.000000\n",
       "mean      11.448942     10.442549    5458.884536     16.787907\n",
       "std        1.644317      2.923376   11002.238024     32.203546\n",
       "min        5.147640      3.401897       1.000000      0.002300\n",
       "25%       11.280160      8.429120     200.000000      0.619000\n",
       "50%       11.831100     11.499503     468.580000      1.317500\n",
       "75%       12.493820     13.123314    4173.910000     18.537700\n",
       "max       13.645000     13.913103  138000.000000    453.172200"
      ]
     },
     "execution_count": 69,
     "metadata": {},
     "output_type": "execute_result"
    }
   ],
   "source": [
    "df.describe()"
   ]
  },
  {
   "cell_type": "markdown",
   "metadata": {},
   "source": [
    "# Description Summary\n",
    "\n",
    "This section provides an overview of the statistical properties of key numerical features to identify potential outliers in the dataset.\n",
    "\n",
    "## 1. **Key Features**\n",
    "- **Location Coordinates**: `latitude`, `longitude`\n",
    "- **Pricing Details**: `price (NGN)`, `usdprice`\n",
    "\n",
    "## 2. **Statistical Summary**\n",
    "| Feature       | Mean       | Std Dev    | Min        | 25%        | Median    | 75%        | Max         |\n",
    "|---------------|------------|------------|------------|------------|-----------|------------|-------------|\n",
    "| **Latitude**  | 11.45      | 1.64       | 5.15       | 11.28      | 11.83     | 12.49      | 13.65       |\n",
    "| **Longitude** | 10.44      | 2.92       | 3.40       | 8.43       | 11.50     | 13.12      | 13.91       |\n",
    "| **Price (NGN)** | 5458.88   | 11002.24   | 1.00       | 200.00     | 468.58    | 4173.91    | 138000.00   |\n",
    "| **USD Price** | 16.79      | 32.20      | 0.0023     | 0.6190     | 1.32      | 18.54      | 453.17      |\n",
    "\n",
    "## 3. **Insights**\n",
    "- **Latitude**:  \n",
    "  - Shows 3 clear outliers around latitude 6-8\n",
    "- **Price (NGN)**:  \n",
    "  - The maximum value (138,000 NGN) is significantly higher than the mean (5,458.88 NGN), suggesting extreme outliers.  \n",
    "  - A significant portion of prices is clustered below 4,173.91 NGN (75th percentile).  \n",
    "- **USD Price**:  \n",
    "  - The maximum value (453.17 USD) is far above the mean (16.79 USD), indicating outliers.  \n",
    "  - Many prices fall below 18.54 USD (75th percentile).  \n",
    "\n",
    "\n",
    "- `visualization` tools (e.g., boxplots, scatterplots) will be to further investigate potential outliers.  \n",
    "---\n"
   ]
  },
  {
   "cell_type": "code",
   "execution_count": 26,
   "metadata": {},
   "outputs": [
    {
     "data": {
      "image/png": "[encoded data removed]",
      "text/plain": [
       "<Figure size 1000x600 with 1 Axes>"
      ]
     },
     "metadata": {},
     "output_type": "display_data"
    },
    {
     "data": {
      "image/png": "[encoded data removed]",
      "text/plain": [
       "<Figure size 1000x600 with 1 Axes>"
      ]
     },
     "metadata": {},
     "output_type": "display_data"
    },
    {
     "data": {
      "image/png": "[encoded data removed]",
      "text/plain": [
       "<Figure size 1000x600 with 1 Axes>"
      ]
     },
     "metadata": {},
     "output_type": "display_data"
    },
    {
     "data": {
      "image/png": "[encoded data removed]",
      "text/plain": [
       "<Figure size 1000x600 with 1 Axes>"
      ]
     },
     "metadata": {},
     "output_type": "display_data"
    }
   ],
   "source": [
    "# Box-whiskers plot\n",
    "#...................\n",
    "# Convert numeric column\n",
    "numeric_columns = df_filtered.select_dtypes(include=['float64', 'int64']).columns\n",
    "\n",
    "# Create box plots for all numeric columns\n",
    "for column in numeric_columns:\n",
    "    plt.figure(figsize=(10, 6))\n",
    "    sns.boxplot(x=df_filtered[column], color='teal')\n",
    "    \n",
    "    # Customize the plot\n",
    "    plt.title(f'Box Plot of {column}', fontsize=16)\n",
    "    plt.xlabel(column, fontsize=12)\n",
    "    plt.grid(axis='x', linestyle='--', alpha=0.7)\n",
    "    \n",
    "    # Show the plot\n",
    "    plt.show()\n"
   ]
  },
  {
   "cell_type": "code",
   "execution_count": 74,
   "metadata": {
    "colab": {
     "base_uri": "https://localhost:8080/",
     "height": 748
    },
    "executionInfo": {
     "elapsed": 19500,
     "status": "ok",
     "timestamp": 1739885768847,
     "user": {
      "displayName": "Samuel Awe",
      "userId": "02298225227465386452"
     },
     "user_tz": -60
    },
    "id": "nnQAnBO2Q-uv",
    "outputId": "2902fdb0-0341-4cf5-f985-08ecd4fd46f3"
   },
   "outputs": [
    {
     "name": "stderr",
     "output_type": "stream",
     "text": [
      "C:\\Users\\USER\\AppData\\Local\\Temp\\ipykernel_3792\\3834005023.py:3: FutureWarning:\n",
      "\n",
      "\n",
      "\n",
      "Passing `palette` without assigning `hue` is deprecated and will be removed in v0.14.0. Assign the `x` variable to `hue` and set `legend=False` for the same effect.\n",
      "\n",
      "\n",
      "No artists with labels found to put in legend.  Note that artists whose label start with an underscore are ignored when legend() is called with no argument.\n"
     ]
    },
    {
     "data": {
      "image/png": "[encoded data removed]",
      "text/plain": [
       "<Figure size 1000x600 with 1 Axes>"
      ]
     },
     "metadata": {},
     "output_type": "display_data"
    }
   ],
   "source": [
    "# Plotting\n",
    "plt.figure(figsize=(10, 6))\n",
    "sns.boxplot(x='commodity name', y='price (NGN)', data=df_filtered, palette='viridis')\n",
    "\n",
    "# Customize the plot\n",
    "plt.title('Distribution of Commodities against price', fontsize=16)\n",
    "plt.xlabel('commodity_name', fontsize=14)\n",
    "plt.ylabel('price (NGN)', fontsize=14)\n",
    "plt.xticks(rotation=45)  # Rotate x-axis labels for better readability\n",
    "plt.legend(title='Commodities', bbox_to_anchor=(1.05, 1), loc='upper left')  # Move legend outside the plot\n",
    "plt.tight_layout()  # Adjust layout to prevent overlapping\n",
    "plt.show()"
   ]
  },
  {
   "cell_type": "markdown",
   "metadata": {},
   "source": [
    "## Outlier Summary\n",
    "1. **Latitude Box Plot**:\n",
    "- Shows 3 clear outliers around latitude 6-8\n",
    "- The main distribution is concentrated around 11-13 latitude\n",
    "- These outliers  are legitimate data points as they could represent locations that are simply further south\n",
    "- Handling suggestion: Since there are only a few outliers and they are valid geographical locations, they will be kept in the dataset but analyzed separately to understand if they represent a distinct region or group in the `EDA`\n",
    "\n",
    "2. **Longitude Box Plot**:\n",
    "- Shows relatively few outliers\n",
    "- The distribution is fairly even between 8-12 longitude\n",
    "- The outliers are less extreme compared to other variables in the dataset\n",
    "- These outliers will be kep as is as they're not very extreme.\n",
    "\n",
    "3. **Price (NGN) Box Plot**:\n",
    "- Shows numerous outliers extending from around 35,000 to 60,000 NGN\n",
    "- The main distribution is concentrated in the lower range (0-20,000 NGN)\n",
    "- This is a `right-skewed` price distribution\n",
    "- Handling suggestions:\n",
    "  - Log transformation could help normalize the distribution, but will be done after `EDA`\n",
    "  - Creating price categories/bins might be useful for analysis.\n",
    "\n",
    "4. **USD Price Box Plot**:\n",
    "- Similar pattern to the NGN price plot but in USD\n",
    "- Multiple outliers extending from about 150 to 200 USD\n",
    "- Main distribution concentrated in lower values (0-50 USD)\n",
    "- Handling suggestions:\n",
    "  - Similar to NGN price:\n",
    "    - Log transformation\n",
    "    - Price categorization\n",
    " \n",
    "- The `outliers` detected will be handled after the `EDA`"
   ]
  },
  {
   "cell_type": "markdown",
   "metadata": {},
   "source": [
    "## Binning necessary Variable"
   ]
  },
  {
   "cell_type": "code",
   "execution_count": 84,
   "metadata": {},
   "outputs": [
    {
     "data": {
      "text/plain": [
       "Index(['Date', 'State', 'LGA', 'Local Market Name', 'latitude', 'longitude',\n",
       "       'category', 'commodity name', 'unit', 'priceflag', 'pricetype',\n",
       "       'price (NGN)', 'usdprice'],\n",
       "      dtype='object')"
      ]
     },
     "execution_count": 84,
     "metadata": {},
     "output_type": "execute_result"
    }
   ],
   "source": [
    "df_filtered.columns"
   ]
  },
  {
   "cell_type": "code",
   "execution_count": 85,
   "metadata": {},
   "outputs": [
    {
     "data": {
      "text/html": [
       "<div>\n",
       "<style scoped>\n",
       "    .dataframe tbody tr th:only-of-type {\n",
       "        vertical-align: middle;\n",
       "    }\n",
       "\n",
       "    .dataframe tbody tr th {\n",
       "        vertical-align: top;\n",
       "    }\n",
       "\n",
       "    .dataframe thead th {\n",
       "        text-align: right;\n",
       "    }\n",
       "</style>\n",
       "<table border=\"1\" class=\"dataframe\">\n",
       "  <thead>\n",
       "    <tr style=\"text-align: right;\">\n",
       "      <th></th>\n",
       "      <th>Date</th>\n",
       "      <th>State</th>\n",
       "      <th>LGA</th>\n",
       "      <th>Local Market Name</th>\n",
       "      <th>latitude</th>\n",
       "      <th>longitude</th>\n",
       "      <th>category</th>\n",
       "      <th>commodity name</th>\n",
       "      <th>unit</th>\n",
       "      <th>priceflag</th>\n",
       "      <th>pricetype</th>\n",
       "      <th>price (NGN)</th>\n",
       "      <th>usdprice</th>\n",
       "    </tr>\n",
       "  </thead>\n",
       "  <tbody>\n",
       "    <tr>\n",
       "      <th>1</th>\n",
       "      <td>1/15/2002</td>\n",
       "      <td>Katsina</td>\n",
       "      <td>Jibia</td>\n",
       "      <td>Jibia (CBM)</td>\n",
       "      <td>13.080000</td>\n",
       "      <td>7.240000</td>\n",
       "      <td>cereals and tubers</td>\n",
       "      <td>Millet</td>\n",
       "      <td>KG</td>\n",
       "      <td>actual</td>\n",
       "      <td>Wholesale</td>\n",
       "      <td>150.18</td>\n",
       "      <td>1.3145</td>\n",
       "    </tr>\n",
       "    <tr>\n",
       "      <th>2</th>\n",
       "      <td>1/15/2002</td>\n",
       "      <td>Katsina</td>\n",
       "      <td>Jibia</td>\n",
       "      <td>Jibia (CBM)</td>\n",
       "      <td>13.080000</td>\n",
       "      <td>7.240000</td>\n",
       "      <td>cereals and tubers</td>\n",
       "      <td>Rice (imported)</td>\n",
       "      <td>KG</td>\n",
       "      <td>actual</td>\n",
       "      <td>Wholesale</td>\n",
       "      <td>358.70</td>\n",
       "      <td>3.1396</td>\n",
       "    </tr>\n",
       "    <tr>\n",
       "      <th>3</th>\n",
       "      <td>1/15/2002</td>\n",
       "      <td>Katsina</td>\n",
       "      <td>Jibia</td>\n",
       "      <td>Jibia (CBM)</td>\n",
       "      <td>13.080000</td>\n",
       "      <td>7.240000</td>\n",
       "      <td>cereals and tubers</td>\n",
       "      <td>Sorghum</td>\n",
       "      <td>KG</td>\n",
       "      <td>actual</td>\n",
       "      <td>Wholesale</td>\n",
       "      <td>155.61</td>\n",
       "      <td>1.3620</td>\n",
       "    </tr>\n",
       "    <tr>\n",
       "      <th>5</th>\n",
       "      <td>1/15/2002</td>\n",
       "      <td>Sokoto</td>\n",
       "      <td>Gada</td>\n",
       "      <td>Illela (CBM)</td>\n",
       "      <td>13.645000</td>\n",
       "      <td>5.278000</td>\n",
       "      <td>cereals and tubers</td>\n",
       "      <td>Millet</td>\n",
       "      <td>KG</td>\n",
       "      <td>actual</td>\n",
       "      <td>Wholesale</td>\n",
       "      <td>146.95</td>\n",
       "      <td>1.2862</td>\n",
       "    </tr>\n",
       "    <tr>\n",
       "      <th>6</th>\n",
       "      <td>1/15/2002</td>\n",
       "      <td>Sokoto</td>\n",
       "      <td>Gada</td>\n",
       "      <td>Illela (CBM)</td>\n",
       "      <td>13.645000</td>\n",
       "      <td>5.278000</td>\n",
       "      <td>cereals and tubers</td>\n",
       "      <td>Rice (imported)</td>\n",
       "      <td>KG</td>\n",
       "      <td>actual</td>\n",
       "      <td>Wholesale</td>\n",
       "      <td>337.59</td>\n",
       "      <td>2.9549</td>\n",
       "    </tr>\n",
       "    <tr>\n",
       "      <th>...</th>\n",
       "      <td>...</td>\n",
       "      <td>...</td>\n",
       "      <td>...</td>\n",
       "      <td>...</td>\n",
       "      <td>...</td>\n",
       "      <td>...</td>\n",
       "      <td>...</td>\n",
       "      <td>...</td>\n",
       "      <td>...</td>\n",
       "      <td>...</td>\n",
       "      <td>...</td>\n",
       "      <td>...</td>\n",
       "      <td>...</td>\n",
       "    </tr>\n",
       "    <tr>\n",
       "      <th>50920</th>\n",
       "      <td>6/15/2024</td>\n",
       "      <td>Yobe</td>\n",
       "      <td>Yunusari</td>\n",
       "      <td>Yunusari</td>\n",
       "      <td>13.149834</td>\n",
       "      <td>11.540236</td>\n",
       "      <td>cereals and tubers</td>\n",
       "      <td>Rice (local)</td>\n",
       "      <td>2.5 KG</td>\n",
       "      <td>aggregate</td>\n",
       "      <td>Retail</td>\n",
       "      <td>3387.50</td>\n",
       "      <td>4.4036</td>\n",
       "    </tr>\n",
       "    <tr>\n",
       "      <th>50921</th>\n",
       "      <td>6/15/2024</td>\n",
       "      <td>Yobe</td>\n",
       "      <td>Yunusari</td>\n",
       "      <td>Yunusari</td>\n",
       "      <td>13.149834</td>\n",
       "      <td>11.540236</td>\n",
       "      <td>cereals and tubers</td>\n",
       "      <td>Sorghum</td>\n",
       "      <td>2.5 KG</td>\n",
       "      <td>aggregate</td>\n",
       "      <td>Retail</td>\n",
       "      <td>1762.50</td>\n",
       "      <td>2.2912</td>\n",
       "    </tr>\n",
       "    <tr>\n",
       "      <th>50935</th>\n",
       "      <td>6/15/2024</td>\n",
       "      <td>Yobe</td>\n",
       "      <td>Yusufari</td>\n",
       "      <td>Yusufari</td>\n",
       "      <td>13.062665</td>\n",
       "      <td>11.171371</td>\n",
       "      <td>cereals and tubers</td>\n",
       "      <td>Millet</td>\n",
       "      <td>2.5 KG</td>\n",
       "      <td>aggregate</td>\n",
       "      <td>Retail</td>\n",
       "      <td>2000.00</td>\n",
       "      <td>2.5999</td>\n",
       "    </tr>\n",
       "    <tr>\n",
       "      <th>50936</th>\n",
       "      <td>6/15/2024</td>\n",
       "      <td>Yobe</td>\n",
       "      <td>Yusufari</td>\n",
       "      <td>Yusufari</td>\n",
       "      <td>13.062665</td>\n",
       "      <td>11.171371</td>\n",
       "      <td>cereals and tubers</td>\n",
       "      <td>Rice (local)</td>\n",
       "      <td>2.5 KG</td>\n",
       "      <td>aggregate</td>\n",
       "      <td>Retail</td>\n",
       "      <td>3325.00</td>\n",
       "      <td>4.3223</td>\n",
       "    </tr>\n",
       "    <tr>\n",
       "      <th>50937</th>\n",
       "      <td>6/15/2024</td>\n",
       "      <td>Yobe</td>\n",
       "      <td>Yusufari</td>\n",
       "      <td>Yusufari</td>\n",
       "      <td>13.062665</td>\n",
       "      <td>11.171371</td>\n",
       "      <td>cereals and tubers</td>\n",
       "      <td>Sorghum</td>\n",
       "      <td>2.5 KG</td>\n",
       "      <td>aggregate</td>\n",
       "      <td>Retail</td>\n",
       "      <td>1812.50</td>\n",
       "      <td>2.3562</td>\n",
       "    </tr>\n",
       "  </tbody>\n",
       "</table>\n",
       "<p>16118 rows × 13 columns</p>\n",
       "</div>"
      ],
      "text/plain": [
       "            Date    State       LGA Local Market Name   latitude  longitude  \\\n",
       "1      1/15/2002  Katsina     Jibia       Jibia (CBM)  13.080000   7.240000   \n",
       "2      1/15/2002  Katsina     Jibia       Jibia (CBM)  13.080000   7.240000   \n",
       "3      1/15/2002  Katsina     Jibia       Jibia (CBM)  13.080000   7.240000   \n",
       "5      1/15/2002   Sokoto      Gada      Illela (CBM)  13.645000   5.278000   \n",
       "6      1/15/2002   Sokoto      Gada      Illela (CBM)  13.645000   5.278000   \n",
       "...          ...      ...       ...               ...        ...        ...   \n",
       "50920  6/15/2024     Yobe  Yunusari          Yunusari  13.149834  11.540236   \n",
       "50921  6/15/2024     Yobe  Yunusari          Yunusari  13.149834  11.540236   \n",
       "50935  6/15/2024     Yobe  Yusufari          Yusufari  13.062665  11.171371   \n",
       "50936  6/15/2024     Yobe  Yusufari          Yusufari  13.062665  11.171371   \n",
       "50937  6/15/2024     Yobe  Yusufari          Yusufari  13.062665  11.171371   \n",
       "\n",
       "                 category   commodity name    unit  priceflag  pricetype  \\\n",
       "1      cereals and tubers           Millet      KG     actual  Wholesale   \n",
       "2      cereals and tubers  Rice (imported)      KG     actual  Wholesale   \n",
       "3      cereals and tubers          Sorghum      KG     actual  Wholesale   \n",
       "5      cereals and tubers           Millet      KG     actual  Wholesale   \n",
       "6      cereals and tubers  Rice (imported)      KG     actual  Wholesale   \n",
       "...                   ...              ...     ...        ...        ...   \n",
       "50920  cereals and tubers     Rice (local)  2.5 KG  aggregate     Retail   \n",
       "50921  cereals and tubers          Sorghum  2.5 KG  aggregate     Retail   \n",
       "50935  cereals and tubers           Millet  2.5 KG  aggregate     Retail   \n",
       "50936  cereals and tubers     Rice (local)  2.5 KG  aggregate     Retail   \n",
       "50937  cereals and tubers          Sorghum  2.5 KG  aggregate     Retail   \n",
       "\n",
       "       price (NGN)  usdprice  \n",
       "1           150.18    1.3145  \n",
       "2           358.70    3.1396  \n",
       "3           155.61    1.3620  \n",
       "5           146.95    1.2862  \n",
       "6           337.59    2.9549  \n",
       "...            ...       ...  \n",
       "50920      3387.50    4.4036  \n",
       "50921      1762.50    2.2912  \n",
       "50935      2000.00    2.5999  \n",
       "50936      3325.00    4.3223  \n",
       "50937      1812.50    2.3562  \n",
       "\n",
       "[16118 rows x 13 columns]"
      ]
     },
     "execution_count": 85,
     "metadata": {},
     "output_type": "execute_result"
    }
   ],
   "source": [
    "df_filtered"
   ]
  },
  {
   "cell_type": "code",
   "execution_count": 87,
   "metadata": {},
   "outputs": [],
   "source": [
    "import pandas as pd\n",
    "import numpy as np\n",
    "\n",
    "def categorize_prices(df):\n",
    "    \"\"\"\n",
    "    Categorize prices based on commodity and price type specific thresholds\n",
    "    using quartile-based approach for each group.\n",
    "    \n",
    "    Parameters:\n",
    "    df (pandas.DataFrame): DataFrame containing price data\n",
    "    \n",
    "    Returns:\n",
    "    pandas.DataFrame: Original DataFrame with new price_category column\n",
    "    \"\"\"\n",
    "    # Create a copy to avoid modifying the original\n",
    "    df = df.copy()\n",
    "    \n",
    "    # Create price categories for each commodity and price type combination\n",
    "    def assign_category(x):\n",
    "        q1 = x['price (NGN)'].quantile(0.25)\n",
    "        q3 = x['price (NGN)'].quantile(0.75)\n",
    "        \n",
    "        conditions = [\n",
    "            x['price (NGN)'] <= q1,\n",
    "            (x['price (NGN)'] > q1) & (x['price (NGN)'] <= q3),\n",
    "            x['price (NGN)'] > q3\n",
    "        ]\n",
    "        choices = ['Low', 'Medium', 'High']\n",
    "        return np.select(conditions, choices, default='Medium')\n",
    "    \n",
    "    # Group by commodity and pricetype, then apply categorization\n",
    "    df['price_category'] = df.groupby(['commodity name', 'pricetype'])['price (NGN)'].transform(\n",
    "        lambda x: assign_category(pd.DataFrame({'price (NGN)': x}))\n",
    "    )\n",
    "    \n",
    "    # Create summary statistics\n",
    "    summary_stats = df.groupby(['commodity name', 'pricetype', 'price_category']).agg({\n",
    "        'price (NGN)': ['count', 'mean', 'min', 'max']\n",
    "    }).round(2)\n",
    "    \n",
    "    return df, summary_stats\n",
    "\n",
    "def print_category_thresholds(df):\n",
    "    \"\"\"\n",
    "    Print the threshold values used for each commodity and price type combination\n",
    "    \"\"\"\n",
    "    for (commodity, price_type), group in df.groupby(['commodity name', 'pricetype']):\n",
    "        q1 = group['price (NGN)'].quantile(0.25)\n",
    "        q3 = group['price (NGN)'].quantile(0.75)\n",
    "        print(f\"\\nCommodity: {commodity} - Price Type: {price_type}\")\n",
    "        print(f\"Low: <= ₦{q1:,.2f}\")\n",
    "        print(f\"Medium: ₦{q1:,.2f} - ₦{q3:,.2f}\")\n",
    "        print(f\"High: > ₦{q3:,.2f}\")"
   ]
  },
  {
   "cell_type": "code",
   "execution_count": 88,
   "metadata": {
    "scrolled": true
   },
   "outputs": [
    {
     "name": "stdout",
     "output_type": "stream",
     "text": [
      "\n",
      "Commodity: Maize (white) - Price Type: Retail\n",
      "Low: <= ₦104.11\n",
      "Medium: ₦104.11 - ₦219.91\n",
      "High: > ₦219.91\n",
      "\n",
      "Commodity: Maize (white) - Price Type: Wholesale\n",
      "Low: <= ₦6,827.50\n",
      "Medium: ₦6,827.50 - ₦16,649.19\n",
      "High: > ₦16,649.19\n",
      "\n",
      "Commodity: Maize (yellow) - Price Type: Retail\n",
      "Low: <= ₦111.22\n",
      "Medium: ₦111.22 - ₦227.06\n",
      "High: > ₦227.06\n",
      "\n",
      "Commodity: Maize (yellow) - Price Type: Wholesale\n",
      "Low: <= ₦7,893.75\n",
      "Medium: ₦7,893.75 - ₦18,179.17\n",
      "High: > ₦18,179.17\n",
      "\n",
      "Commodity: Millet - Price Type: Retail\n",
      "Low: <= ₦155.00\n",
      "Medium: ₦155.00 - ₦300.00\n",
      "High: > ₦300.00\n",
      "\n",
      "Commodity: Millet - Price Type: Wholesale\n",
      "Low: <= ₦238.25\n",
      "Medium: ₦238.25 - ₦16,204.75\n",
      "High: > ₦16,204.75\n",
      "\n",
      "Commodity: Rice (imported) - Price Type: Retail\n",
      "Low: <= ₦500.00\n",
      "Medium: ₦500.00 - ₦900.00\n",
      "High: > ₦900.00\n",
      "\n",
      "Commodity: Rice (imported) - Price Type: Wholesale\n",
      "Low: <= ₦504.70\n",
      "Medium: ₦504.70 - ₦18,900.00\n",
      "High: > ₦18,900.00\n",
      "\n",
      "Commodity: Rice (local) - Price Type: Retail\n",
      "Low: <= ₦350.00\n",
      "Medium: ₦350.00 - ₦625.00\n",
      "High: > ₦625.00\n",
      "\n",
      "Commodity: Rice (local) - Price Type: Wholesale\n",
      "Low: <= ₦20,999.19\n",
      "Medium: ₦20,999.19 - ₦38,500.00\n",
      "High: > ₦38,500.00\n",
      "\n",
      "Commodity: Rice (milled, local) - Price Type: Wholesale\n",
      "Low: <= ₦15,000.00\n",
      "Medium: ₦15,000.00 - ₦27,941.75\n",
      "High: > ₦27,941.75\n",
      "\n",
      "Commodity: Sorghum - Price Type: Retail\n",
      "Low: <= ₦150.00\n",
      "Medium: ₦150.00 - ₦350.00\n",
      "High: > ₦350.00\n",
      "\n",
      "Commodity: Sorghum - Price Type: Wholesale\n",
      "Low: <= ₦133.25\n",
      "Medium: ₦133.25 - ₦179.05\n",
      "High: > ₦179.05\n",
      "\n",
      "Commodity: Sorghum (brown) - Price Type: Retail\n",
      "Low: <= ₦107.27\n",
      "Medium: ₦107.27 - ₦226.51\n",
      "High: > ₦226.51\n",
      "\n",
      "Commodity: Sorghum (brown) - Price Type: Wholesale\n",
      "Low: <= ₦7,500.00\n",
      "Medium: ₦7,500.00 - ₦18,583.33\n",
      "High: > ₦18,583.33\n",
      "\n",
      "Commodity: Sorghum (white) - Price Type: Retail\n",
      "Low: <= ₦111.40\n",
      "Medium: ₦111.40 - ₦224.96\n",
      "High: > ₦224.96\n",
      "\n",
      "Commodity: Sorghum (white) - Price Type: Wholesale\n",
      "Low: <= ₦6,500.00\n",
      "Medium: ₦6,500.00 - ₦17,751.25\n",
      "High: > ₦17,751.25\n",
      "                                              price (NGN)                      \\\n",
      "                                                    count      mean       min   \n",
      "commodity name       pricetype price_category                                   \n",
      "Maize (white)        Retail    High                   114    256.89    219.97   \n",
      "                               Low                    114     87.53     60.08   \n",
      "                               Medium                 226    165.93    105.90   \n",
      "                     Wholesale High                   269  20568.70  16661.29   \n",
      "                               Low                    269   5154.82   2350.00   \n",
      "                               Medium                 536  10734.52   6850.00   \n",
      "Maize (yellow)       Retail    High                   127    274.23    227.21   \n",
      "                               Low                    128     89.60     58.34   \n",
      "                               Medium                 254    177.18    111.86   \n",
      "                     Wholesale High                   226  21858.56  18216.67   \n",
      "                               Low                    226   5792.37   3164.00   \n",
      "                               Medium                 452  12174.75   7900.00   \n",
      "Millet               Retail    High                   345    872.43    302.54   \n",
      "                               Low                    387    118.25     50.00   \n",
      "                               Medium                 806    218.21    155.48   \n",
      "                     Wholesale High                   375  22222.25  16208.00   \n",
      "                               Low                    375    167.53     73.92   \n",
      "                               Medium                 748   8877.61    238.88   \n",
      "Rice (imported)      Retail    High                   343   2198.65    908.00   \n",
      "                               Low                    417    406.55     94.34   \n",
      "                               Medium                 649    643.94    500.88   \n",
      "                     Wholesale High                   343  27589.74  18915.00   \n",
      "                               Low                    344    387.61    193.35   \n",
      "                               Medium                 686  12814.80    504.73   \n",
      "Rice (local)         Retail    High                   398   1657.54    626.00   \n",
      "                               Low                    418    293.35    100.66   \n",
      "                               Medium                 825    461.98    351.39   \n",
      "                     Wholesale High                   235  45550.20  38522.58   \n",
      "                               Low                    236  14938.43   8000.00   \n",
      "                               Medium                 473  28426.66  21000.00   \n",
      "Rice (milled, local) Wholesale High                    57  30640.40  27992.00   \n",
      "                               Low                     59  14248.57  13000.00   \n",
      "                               Medium                 112  22999.15  15150.00   \n",
      "Sorghum              Retail    High                   249   1001.88    355.00   \n",
      "                               Low                    293    121.67     55.00   \n",
      "                               Medium                 495    234.54    152.00   \n",
      "                     Wholesale High                    98    201.85    179.17   \n",
      "                               Low                     98    112.52     64.84   \n",
      "                               Medium                 194    156.40    134.00   \n",
      "Sorghum (brown)      Retail    High                   118    279.14    226.61   \n",
      "                               Low                    119     81.85     40.00   \n",
      "                               Medium                 234    174.45    107.69   \n",
      "                     Wholesale High                   235  23731.33  18594.84   \n",
      "                               Low                    238   5636.86   3000.00   \n",
      "                               Medium                 470  12972.07   7550.00   \n",
      "Sorghum (white)      Retail    High                   130    279.81    224.96   \n",
      "                               Low                    130     83.53     50.00   \n",
      "                               Medium                 258    178.82    112.69   \n",
      "                     Wholesale High                   297  23327.88  17752.50   \n",
      "                               Low                    309   4992.49   1800.00   \n",
      "                               Medium                 581  11492.60   6515.00   \n",
      "\n",
      "                                                         \n",
      "                                                    max  \n",
      "commodity name       pricetype price_category            \n",
      "Maize (white)        Retail    High              400.30  \n",
      "                               Low               103.52  \n",
      "                               Medium            219.71  \n",
      "                     Wholesale High            27641.94  \n",
      "                               Low              6820.00  \n",
      "                               Medium          16612.90  \n",
      "Maize (yellow)       Retail    High              463.13  \n",
      "                               Low               111.22  \n",
      "                               Medium            227.06  \n",
      "                     Wholesale High            28613.79  \n",
      "                               Low              7875.00  \n",
      "                               Medium          18166.67  \n",
      "Millet               Retail    High             2900.00  \n",
      "                               Low               155.00  \n",
      "                               Medium            300.00  \n",
      "                     Wholesale High            45727.74  \n",
      "                               Low               238.04  \n",
      "                               Medium          16195.00  \n",
      "Rice (imported)      Retail    High             6000.00  \n",
      "                               Low               500.00  \n",
      "                               Medium            900.00  \n",
      "                     Wholesale High            44800.00  \n",
      "                               Low               504.70  \n",
      "                               Medium          18900.00  \n",
      "Rice (local)         Retail    High             4030.43  \n",
      "                               Low               350.00  \n",
      "                               Medium            625.00  \n",
      "                     Wholesale High            61262.58  \n",
      "                               Low             20996.77  \n",
      "                               Medium          38500.00  \n",
      "Rice (milled, local) Wholesale High            36500.00  \n",
      "                               Low             15000.00  \n",
      "                               Medium          27925.00  \n",
      "Sorghum              Retail    High             3758.82  \n",
      "                               Low               150.00  \n",
      "                               Medium            350.00  \n",
      "                     Wholesale High              256.73  \n",
      "                               Low               133.00  \n",
      "                               Medium            178.70  \n",
      "Sorghum (brown)      Retail    High              478.17  \n",
      "                               Low               107.27  \n",
      "                               Medium            226.41  \n",
      "                     Wholesale High            46631.33  \n",
      "                               Low              7500.00  \n",
      "                               Medium          18583.33  \n",
      "Sorghum (white)      Retail    High              502.91  \n",
      "                               Low               110.97  \n",
      "                               Medium            224.94  \n",
      "                     Wholesale High            51482.67  \n",
      "                               Low              6500.00  \n",
      "                               Medium          17750.00  \n"
     ]
    }
   ],
   "source": [
    "# Assuming your dataframe is called 'df'\n",
    "df_categorized, summary_stats = categorize_prices(df_filtered)\n",
    "\n",
    "# Print thresholds for each commodity/price type combination\n",
    "print_category_thresholds(df_filtered)\n",
    "\n",
    "# View summary statistics\n",
    "print(summary_stats)"
   ]
  },
  {
   "cell_type": "markdown",
   "metadata": {},
   "source": [
    "## Commodity-Specific Price Range Categorization Analysis\n",
    "\n",
    "The chosen price categorization approach is statistically sound because:\n",
    "\n",
    "1. **Commodity-Level Granularity**\n",
    "   - Different commodities have inherently different price ranges\n",
    "   - For example, rice prices would naturally be higher than tomato prices\n",
    "   - Using a single threshold across all commodities would create misleading categories\n",
    "\n",
    "2. **Price Type Consideration (Retail vs Wholesale)**\n",
    "   - Wholesale prices typically differ significantly from retail prices\n",
    "   - Each commodity is categorized separately for each price type\n",
    "   - This prevents wholesale bulk pricing from skewing retail categories and vice-versa\n",
    "\n",
    "3. **Market Dynamics**\n",
    "   - Local Market Name and State/LGA variations are indirectly captured\n",
    "   - Price distributions naturally reflect regional market conditions\n",
    "   - Categories adapt to local economic contexts"
   ]
  },
  {
   "cell_type": "code",
   "execution_count": 89,
   "metadata": {},
   "outputs": [
    {
     "data": {
      "text/html": [
       "<div>\n",
       "<style scoped>\n",
       "    .dataframe tbody tr th:only-of-type {\n",
       "        vertical-align: middle;\n",
       "    }\n",
       "\n",
       "    .dataframe tbody tr th {\n",
       "        vertical-align: top;\n",
       "    }\n",
       "\n",
       "    .dataframe thead th {\n",
       "        text-align: right;\n",
       "    }\n",
       "</style>\n",
       "<table border=\"1\" class=\"dataframe\">\n",
       "  <thead>\n",
       "    <tr style=\"text-align: right;\">\n",
       "      <th></th>\n",
       "      <th>Date</th>\n",
       "      <th>State</th>\n",
       "      <th>LGA</th>\n",
       "      <th>Local Market Name</th>\n",
       "      <th>latitude</th>\n",
       "      <th>longitude</th>\n",
       "      <th>category</th>\n",
       "      <th>commodity name</th>\n",
       "      <th>unit</th>\n",
       "      <th>priceflag</th>\n",
       "      <th>pricetype</th>\n",
       "      <th>price (NGN)</th>\n",
       "      <th>usdprice</th>\n",
       "      <th>price_category</th>\n",
       "    </tr>\n",
       "  </thead>\n",
       "  <tbody>\n",
       "    <tr>\n",
       "      <th>1</th>\n",
       "      <td>1/15/2002</td>\n",
       "      <td>Katsina</td>\n",
       "      <td>Jibia</td>\n",
       "      <td>Jibia (CBM)</td>\n",
       "      <td>13.080000</td>\n",
       "      <td>7.240000</td>\n",
       "      <td>cereals and tubers</td>\n",
       "      <td>Millet</td>\n",
       "      <td>KG</td>\n",
       "      <td>actual</td>\n",
       "      <td>Wholesale</td>\n",
       "      <td>150.18</td>\n",
       "      <td>1.3145</td>\n",
       "      <td>Low</td>\n",
       "    </tr>\n",
       "    <tr>\n",
       "      <th>2</th>\n",
       "      <td>1/15/2002</td>\n",
       "      <td>Katsina</td>\n",
       "      <td>Jibia</td>\n",
       "      <td>Jibia (CBM)</td>\n",
       "      <td>13.080000</td>\n",
       "      <td>7.240000</td>\n",
       "      <td>cereals and tubers</td>\n",
       "      <td>Rice (imported)</td>\n",
       "      <td>KG</td>\n",
       "      <td>actual</td>\n",
       "      <td>Wholesale</td>\n",
       "      <td>358.70</td>\n",
       "      <td>3.1396</td>\n",
       "      <td>Low</td>\n",
       "    </tr>\n",
       "    <tr>\n",
       "      <th>3</th>\n",
       "      <td>1/15/2002</td>\n",
       "      <td>Katsina</td>\n",
       "      <td>Jibia</td>\n",
       "      <td>Jibia (CBM)</td>\n",
       "      <td>13.080000</td>\n",
       "      <td>7.240000</td>\n",
       "      <td>cereals and tubers</td>\n",
       "      <td>Sorghum</td>\n",
       "      <td>KG</td>\n",
       "      <td>actual</td>\n",
       "      <td>Wholesale</td>\n",
       "      <td>155.61</td>\n",
       "      <td>1.3620</td>\n",
       "      <td>Medium</td>\n",
       "    </tr>\n",
       "    <tr>\n",
       "      <th>5</th>\n",
       "      <td>1/15/2002</td>\n",
       "      <td>Sokoto</td>\n",
       "      <td>Gada</td>\n",
       "      <td>Illela (CBM)</td>\n",
       "      <td>13.645000</td>\n",
       "      <td>5.278000</td>\n",
       "      <td>cereals and tubers</td>\n",
       "      <td>Millet</td>\n",
       "      <td>KG</td>\n",
       "      <td>actual</td>\n",
       "      <td>Wholesale</td>\n",
       "      <td>146.95</td>\n",
       "      <td>1.2862</td>\n",
       "      <td>Low</td>\n",
       "    </tr>\n",
       "    <tr>\n",
       "      <th>6</th>\n",
       "      <td>1/15/2002</td>\n",
       "      <td>Sokoto</td>\n",
       "      <td>Gada</td>\n",
       "      <td>Illela (CBM)</td>\n",
       "      <td>13.645000</td>\n",
       "      <td>5.278000</td>\n",
       "      <td>cereals and tubers</td>\n",
       "      <td>Rice (imported)</td>\n",
       "      <td>KG</td>\n",
       "      <td>actual</td>\n",
       "      <td>Wholesale</td>\n",
       "      <td>337.59</td>\n",
       "      <td>2.9549</td>\n",
       "      <td>Low</td>\n",
       "    </tr>\n",
       "    <tr>\n",
       "      <th>...</th>\n",
       "      <td>...</td>\n",
       "      <td>...</td>\n",
       "      <td>...</td>\n",
       "      <td>...</td>\n",
       "      <td>...</td>\n",
       "      <td>...</td>\n",
       "      <td>...</td>\n",
       "      <td>...</td>\n",
       "      <td>...</td>\n",
       "      <td>...</td>\n",
       "      <td>...</td>\n",
       "      <td>...</td>\n",
       "      <td>...</td>\n",
       "      <td>...</td>\n",
       "    </tr>\n",
       "    <tr>\n",
       "      <th>50920</th>\n",
       "      <td>6/15/2024</td>\n",
       "      <td>Yobe</td>\n",
       "      <td>Yunusari</td>\n",
       "      <td>Yunusari</td>\n",
       "      <td>13.149834</td>\n",
       "      <td>11.540236</td>\n",
       "      <td>cereals and tubers</td>\n",
       "      <td>Rice (local)</td>\n",
       "      <td>2.5 KG</td>\n",
       "      <td>aggregate</td>\n",
       "      <td>Retail</td>\n",
       "      <td>3387.50</td>\n",
       "      <td>4.4036</td>\n",
       "      <td>High</td>\n",
       "    </tr>\n",
       "    <tr>\n",
       "      <th>50921</th>\n",
       "      <td>6/15/2024</td>\n",
       "      <td>Yobe</td>\n",
       "      <td>Yunusari</td>\n",
       "      <td>Yunusari</td>\n",
       "      <td>13.149834</td>\n",
       "      <td>11.540236</td>\n",
       "      <td>cereals and tubers</td>\n",
       "      <td>Sorghum</td>\n",
       "      <td>2.5 KG</td>\n",
       "      <td>aggregate</td>\n",
       "      <td>Retail</td>\n",
       "      <td>1762.50</td>\n",
       "      <td>2.2912</td>\n",
       "      <td>High</td>\n",
       "    </tr>\n",
       "    <tr>\n",
       "      <th>50935</th>\n",
       "      <td>6/15/2024</td>\n",
       "      <td>Yobe</td>\n",
       "      <td>Yusufari</td>\n",
       "      <td>Yusufari</td>\n",
       "      <td>13.062665</td>\n",
       "      <td>11.171371</td>\n",
       "      <td>cereals and tubers</td>\n",
       "      <td>Millet</td>\n",
       "      <td>2.5 KG</td>\n",
       "      <td>aggregate</td>\n",
       "      <td>Retail</td>\n",
       "      <td>2000.00</td>\n",
       "      <td>2.5999</td>\n",
       "      <td>High</td>\n",
       "    </tr>\n",
       "    <tr>\n",
       "      <th>50936</th>\n",
       "      <td>6/15/2024</td>\n",
       "      <td>Yobe</td>\n",
       "      <td>Yusufari</td>\n",
       "      <td>Yusufari</td>\n",
       "      <td>13.062665</td>\n",
       "      <td>11.171371</td>\n",
       "      <td>cereals and tubers</td>\n",
       "      <td>Rice (local)</td>\n",
       "      <td>2.5 KG</td>\n",
       "      <td>aggregate</td>\n",
       "      <td>Retail</td>\n",
       "      <td>3325.00</td>\n",
       "      <td>4.3223</td>\n",
       "      <td>High</td>\n",
       "    </tr>\n",
       "    <tr>\n",
       "      <th>50937</th>\n",
       "      <td>6/15/2024</td>\n",
       "      <td>Yobe</td>\n",
       "      <td>Yusufari</td>\n",
       "      <td>Yusufari</td>\n",
       "      <td>13.062665</td>\n",
       "      <td>11.171371</td>\n",
       "      <td>cereals and tubers</td>\n",
       "      <td>Sorghum</td>\n",
       "      <td>2.5 KG</td>\n",
       "      <td>aggregate</td>\n",
       "      <td>Retail</td>\n",
       "      <td>1812.50</td>\n",
       "      <td>2.3562</td>\n",
       "      <td>High</td>\n",
       "    </tr>\n",
       "  </tbody>\n",
       "</table>\n",
       "<p>16118 rows × 14 columns</p>\n",
       "</div>"
      ],
      "text/plain": [
       "            Date    State       LGA Local Market Name   latitude  longitude  \\\n",
       "1      1/15/2002  Katsina     Jibia       Jibia (CBM)  13.080000   7.240000   \n",
       "2      1/15/2002  Katsina     Jibia       Jibia (CBM)  13.080000   7.240000   \n",
       "3      1/15/2002  Katsina     Jibia       Jibia (CBM)  13.080000   7.240000   \n",
       "5      1/15/2002   Sokoto      Gada      Illela (CBM)  13.645000   5.278000   \n",
       "6      1/15/2002   Sokoto      Gada      Illela (CBM)  13.645000   5.278000   \n",
       "...          ...      ...       ...               ...        ...        ...   \n",
       "50920  6/15/2024     Yobe  Yunusari          Yunusari  13.149834  11.540236   \n",
       "50921  6/15/2024     Yobe  Yunusari          Yunusari  13.149834  11.540236   \n",
       "50935  6/15/2024     Yobe  Yusufari          Yusufari  13.062665  11.171371   \n",
       "50936  6/15/2024     Yobe  Yusufari          Yusufari  13.062665  11.171371   \n",
       "50937  6/15/2024     Yobe  Yusufari          Yusufari  13.062665  11.171371   \n",
       "\n",
       "                 category   commodity name    unit  priceflag  pricetype  \\\n",
       "1      cereals and tubers           Millet      KG     actual  Wholesale   \n",
       "2      cereals and tubers  Rice (imported)      KG     actual  Wholesale   \n",
       "3      cereals and tubers          Sorghum      KG     actual  Wholesale   \n",
       "5      cereals and tubers           Millet      KG     actual  Wholesale   \n",
       "6      cereals and tubers  Rice (imported)      KG     actual  Wholesale   \n",
       "...                   ...              ...     ...        ...        ...   \n",
       "50920  cereals and tubers     Rice (local)  2.5 KG  aggregate     Retail   \n",
       "50921  cereals and tubers          Sorghum  2.5 KG  aggregate     Retail   \n",
       "50935  cereals and tubers           Millet  2.5 KG  aggregate     Retail   \n",
       "50936  cereals and tubers     Rice (local)  2.5 KG  aggregate     Retail   \n",
       "50937  cereals and tubers          Sorghum  2.5 KG  aggregate     Retail   \n",
       "\n",
       "       price (NGN)  usdprice price_category  \n",
       "1           150.18    1.3145            Low  \n",
       "2           358.70    3.1396            Low  \n",
       "3           155.61    1.3620         Medium  \n",
       "5           146.95    1.2862            Low  \n",
       "6           337.59    2.9549            Low  \n",
       "...            ...       ...            ...  \n",
       "50920      3387.50    4.4036           High  \n",
       "50921      1762.50    2.2912           High  \n",
       "50935      2000.00    2.5999           High  \n",
       "50936      3325.00    4.3223           High  \n",
       "50937      1812.50    2.3562           High  \n",
       "\n",
       "[16118 rows x 14 columns]"
      ]
     },
     "execution_count": 89,
     "metadata": {},
     "output_type": "execute_result"
    }
   ],
   "source": [
    "df_categorized"
   ]
  },
  {
   "cell_type": "markdown",
   "metadata": {},
   "source": [
    "## Character Data Conversion"
   ]
  },
  {
   "cell_type": "code",
   "execution_count": 90,
   "metadata": {},
   "outputs": [],
   "source": [
    "def standardize_column_names(df):\n",
    "    \"\"\"\n",
    "    Standardize column names by:\n",
    "    1. Converting to lowercase\n",
    "    2. Replacing spaces with underscores\n",
    "    3. Ensuring consistent naming conventions\n",
    "    \n",
    "    \"\"\"\n",
    "    df = df.copy()\n",
    "    \n",
    "    # Create a mapping of old column names to new ones\n",
    "    column_mapping = {\n",
    "        'Date': 'date',\n",
    "        'State': 'state',\n",
    "        'LGA': 'lga',\n",
    "        'Local Market Name': 'local_market_name',\n",
    "        'latitude': 'latitude',\n",
    "        'longitude': 'longitude',\n",
    "        'category': 'category',\n",
    "        'commodity name': 'commodity_name',\n",
    "        'unit': 'unit',\n",
    "        'priceflag': 'price_flag',\n",
    "        'pricetype': 'price_type',\n",
    "        'price (NGN)': 'price_ngn',\n",
    "        'usdprice': 'usd_price',\n",
    "        'price_category': 'price_category'\n",
    "    }\n",
    "    \n",
    "    # Rename the columns\n",
    "    df = df_categorized.rename(columns=column_mapping)\n",
    "    \n",
    "    return df"
   ]
  },
  {
   "cell_type": "code",
   "execution_count": 91,
   "metadata": {},
   "outputs": [],
   "source": [
    "# Apply to dataframe\n",
    "df_cleaned = standardize_column_names(df_categorized)"
   ]
  },
  {
   "cell_type": "markdown",
   "metadata": {},
   "source": [
    "### Data Integrity Checks"
   ]
  },
  {
   "cell_type": "code",
   "execution_count": 92,
   "metadata": {},
   "outputs": [
    {
     "data": {
      "text/plain": [
       "1   2002-01-15\n",
       "2   2002-01-15\n",
       "3   2002-01-15\n",
       "5   2002-01-15\n",
       "6   2002-01-15\n",
       "Name: date, dtype: datetime64[ns]"
      ]
     },
     "execution_count": 92,
     "metadata": {},
     "output_type": "execute_result"
    }
   ],
   "source": [
    "# Convert the 'Date' column to datetime format\n",
    "df_cleaned['date'] = pd.to_datetime(df_cleaned['date'], format='%m/%d/%Y')\n",
    "\n",
    "# Verify the changes\n",
    "df_cleaned['date'].head()"
   ]
  },
  {
   "cell_type": "code",
   "execution_count": 93,
   "metadata": {},
   "outputs": [
    {
     "data": {
      "text/plain": [
       "date                 datetime64[ns]\n",
       "state                        object\n",
       "lga                          object\n",
       "local_market_name            object\n",
       "latitude                    float64\n",
       "longitude                   float64\n",
       "category                     object\n",
       "commodity_name               object\n",
       "unit                         object\n",
       "price_flag                   object\n",
       "price_type                   object\n",
       "price_ngn                   float64\n",
       "usd_price                   float64\n",
       "price_category               object\n",
       "dtype: object"
      ]
     },
     "execution_count": 93,
     "metadata": {},
     "output_type": "execute_result"
    }
   ],
   "source": [
    "df_cleaned.dtypes"
   ]
  },
  {
   "cell_type": "code",
   "execution_count": 94,
   "metadata": {},
   "outputs": [],
   "source": [
    "import pandas as pd\n",
    "import numpy as np\n",
    "from datetime import datetime\n",
    "\n",
    "class DataIntegrityChecker:\n",
    "    def __init__(self, df):\n",
    "        self.df = df.copy()\n",
    "        self.issues = []\n",
    "        \n",
    "    def check_referential_integrity(self):\n",
    "        \"\"\"Check if LGAs correspond to their correct states\"\"\"\n",
    "        # Group by State and get unique LGAs\n",
    "        state_lga_mapping = self.df.groupby('state')['lga'].unique().to_dict()\n",
    "        \n",
    "        # Check for LGAs appearing in multiple states\n",
    "        lga_state_pairs = self.df.groupby('lga')['state'].unique()\n",
    "        multiple_states = lga_state_pairs[lga_state_pairs.apply(len) > 1]\n",
    "        \n",
    "        if not multiple_states.empty:\n",
    "            self.issues.append({\n",
    "                'check': 'referential_integrity',\n",
    "                'issue': 'LGAs found in multiple states',\n",
    "                'details': multiple_states.to_dict()\n",
    "            })\n",
    "            \n",
    "    \n",
    "                    \n",
    "    def check_bounds(self):\n",
    "        \"\"\"Check if values are within acceptable ranges\"\"\"\n",
    "        bounds = {\n",
    "            'latitude': (-90, 90),\n",
    "            'longitude': (-180, 180),\n",
    "            'price_ngn': (0, None),  # None means no upper bound\n",
    "            'usd_price': (0, None)\n",
    "        }\n",
    "        \n",
    "        for col, (min_val, max_val) in bounds.items():\n",
    "            if col in self.df.columns:\n",
    "                # Check minimum bounds\n",
    "                if min_val is not None:\n",
    "                    out_of_bounds = self.df[self.df[col] < min_val]\n",
    "                    if not out_of_bounds.empty:\n",
    "                        self.issues.append({\n",
    "                            'check': 'bounds',\n",
    "                            'issue': f'{col} below minimum value {min_val}',\n",
    "                            'details': f'Found {len(out_of_bounds)} records'\n",
    "                        })\n",
    "                \n",
    "                # Check maximum bounds\n",
    "                if max_val is not None:\n",
    "                    out_of_bounds = self.df[self.df[col] > max_val]\n",
    "                    if not out_of_bounds.empty:\n",
    "                        self.issues.append({\n",
    "                            'check': 'bounds',\n",
    "                            'issue': f'{col} above maximum value {max_val}',\n",
    "                            'details': f'Found {len(out_of_bounds)} records'\n",
    "                        })\n",
    "    \n",
    "    def run_all_checks(self):\n",
    "        \"\"\"Run all integrity checks\"\"\"\n",
    "        self.check_referential_integrity()\n",
    "        self.check_bounds()\n",
    "        return self.issues\n",
    "\n",
    "def format_integrity_report(issues):\n",
    "    \"\"\"Format the integrity check results into a readable report\"\"\"\n",
    "    if not issues:\n",
    "        return \"No data integrity issues found.\"\n",
    "    \n",
    "    report = \"Data Integrity Check Report:\\n\" + \"=\"*30 + \"\\n\\n\"\n",
    "    \n",
    "    for i, issue in enumerate(issues, 1):\n",
    "        report += f\"{i}. {issue['check'].upper()}:\\n\"\n",
    "        report += f\"   Issue: {issue['issue']}\\n\"\n",
    "        report += f\"   Details: {issue['details']}\\n\\n\"\n",
    "    \n",
    "    return report"
   ]
  },
  {
   "cell_type": "code",
   "execution_count": 95,
   "metadata": {},
   "outputs": [
    {
     "name": "stdout",
     "output_type": "stream",
     "text": [
      "No data integrity issues found.\n"
     ]
    }
   ],
   "source": [
    "# Initialize the checker\n",
    "checker = DataIntegrityChecker(df_cleaned)\n",
    "\n",
    "# Run all checks\n",
    "issues = checker.run_all_checks()\n",
    "\n",
    "# Print formatted report\n",
    "print(format_integrity_report(issues))"
   ]
  },
  {
   "cell_type": "markdown",
   "metadata": {},
   "source": [
    "# Feature Scaling Strategy: Post-EDA Approach\n",
    "\n",
    "The decision to perform scaling, standardization, and outlier handling after EDA is methodologically correct for these key reasons:\n",
    "\n",
    "1. **Data Understanding**\n",
    "   - Raw data distributions inform optimal scaling choices\n",
    "   - Original values preserve interpretability during initial analysis\n",
    "   - Outlier patterns need to be understood in their natural context\n",
    "\n",
    "\n",
    "2. **Statistical Integrity**\n",
    "   - Early transformations might mask important data patterns\n",
    "   - Raw data relationships should guide feature engineering\n",
    "   - Scaling parameters should be informed by complete data understanding"
   ]
  },
  {
   "cell_type": "code",
   "execution_count": 80,
   "metadata": {
    "colab": {
     "base_uri": "https://localhost:8080/",
     "height": 1000
    },
    "executionInfo": {
     "elapsed": 2611,
     "status": "ok",
     "timestamp": 1739883894113,
     "user": {
      "displayName": "Samuel Awe",
      "userId": "02298225227465386452"
     },
     "user_tz": -60
    },
    "id": "HUgS9a1UJifl",
    "outputId": "ed7b6eb5-e4fa-4c6f-8a6c-15a754d53fcb"
   },
   "outputs": [],
   "source": [
    "# import seaborn as sns\n",
    "# import matplotlib.pyplot as plt\n",
    "\n",
    "# # Visualize the distributions of numerical features\n",
    "# num_cols = [\n",
    "#     'latitude',\t'longitude','price (NGN)','usdprice'\n",
    "# ]\n",
    "\n",
    "# for feature in num_cols:\n",
    "#     plt.figure(figsize=(12, 6))\n",
    "#     sns.histplot(df[feature], kde=True, bins=30)\n",
    "#     plt.title(f'Distribution of {feature}')\n",
    "#     plt.xlabel(feature)\n",
    "#     plt.ylabel('Frequency')\n",
    "#     plt.show()"
   ]
  },
  {
   "cell_type": "code",
   "execution_count": 73,
   "metadata": {
    "colab": {
     "base_uri": "https://localhost:8080/",
     "height": 543
    },
    "executionInfo": {
     "elapsed": 1363,
     "status": "ok",
     "timestamp": 1739885639614,
     "user": {
      "displayName": "Samuel Awe",
      "userId": "02298225227465386452"
     },
     "user_tz": -60
    },
    "id": "enpI2ZMDQHbs",
    "outputId": "f50c2c40-8879-4552-ad93-34b7579f7eb4"
   },
   "outputs": [],
   "source": [
    "# # Plotting\n",
    "# plt.figure(figsize=(10, 6))\n",
    "# sns.barplot(x='commodity name', y='price (NGN)', data=df_filtered, palette='viridis')\n",
    "\n",
    "# # Customize the plot\n",
    "# plt.title('Distribution of Commodities against price', fontsize=16)\n",
    "# plt.xlabel('commodity_name', fontsize=14)\n",
    "# plt.ylabel('price (NGN)', fontsize=14)\n",
    "# plt.xticks(rotation=45)  # Rotate x-axis labels for better readability\n",
    "# plt.legend(title='Commodities', bbox_to_anchor=(1.05, 1), loc='upper left')  # Move legend outside the plot\n",
    "# plt.tight_layout()  # Adjust layout to prevent overlapping\n",
    "# plt.show()"
   ]
  },
  {
   "cell_type": "code",
   "execution_count": 77,
   "metadata": {
    "colab": {
     "base_uri": "https://localhost:8080/",
     "height": 1000
    },
    "executionInfo": {
     "elapsed": 7385,
     "status": "ok",
     "timestamp": 1739886873201,
     "user": {
      "displayName": "Samuel Awe",
      "userId": "02298225227465386452"
     },
     "user_tz": -60
    },
    "id": "cNohFlcAVBt7",
    "outputId": "8b1b5023-2e14-4b28-aedb-012ecee4ed96"
   },
   "outputs": [],
   "source": [
    "# import seaborn as sns\n",
    "# import matplotlib.pyplot as plt\n",
    "\n",
    "# # Create a FacetGrid for each commodity\n",
    "# g = sns.FacetGrid(df_filtered, col='commodity name', col_wrap=3, height=5, aspect=1.5, sharey=False)\n",
    "\n",
    "# # Map a barplot to each facet\n",
    "# g.map(sns.barplot, 'State', 'price (NGN)', palette='viridis')\n",
    "\n",
    "# # Customize the plot\n",
    "\n",
    "# g.set_axis_labels('State', 'Price (NGN)')\n",
    "# g.set_titles('{col_name}')  # Set the title of each facet to the commodity name\n",
    "# g.set_xticklabels(rotation=45)  # Rotate x-axis labels for better readability\n",
    "# plt.tight_layout()  # Adjust layout to prevent overlapping\n",
    "# plt.show()"
   ]
  },
  {
   "cell_type": "code",
   "execution_count": 81,
   "metadata": {},
   "outputs": [],
   "source": [
    "# import plotly.express as px\n",
    "\n",
    "# # Create a time series plot using Plotly\n",
    "# fig = px.line(\n",
    "#     df_filtered, \n",
    "#     x='Date', \n",
    "#     y='price (NGN)', \n",
    "#     title='Time Series Plot of Cereal Prices',\n",
    "#     labels={'price (NGN)': 'Price (NGN)', 'Date': 'Date'},\n",
    "#     markers=True  # Add markers to make data points visible\n",
    "# )\n",
    "\n",
    "# # Customize layout for better readability\n",
    "# fig.update_layout(\n",
    "#     xaxis_title='Date',\n",
    "#     yaxis_title='Price (NGN)',\n",
    "#     template='plotly_white',\n",
    "#     hovermode='x unified'\n",
    "# )\n",
    "\n",
    "# # Show the plot\n",
    "# fig.show()\n"
   ]
  },
  {
   "cell_type": "code",
   "execution_count": 82,
   "metadata": {},
   "outputs": [],
   "source": [
    "# import plotly.express as px\n",
    "\n",
    "# # Create a time series plot using Plotly\n",
    "# fig = px.line(\n",
    "#     df_filtered, \n",
    "#     x='Date', \n",
    "#     y='usdprice', \n",
    "#     title='Time Series Plot of Cereal Prices',\n",
    "#     labels={'price (USD)': 'Price (USD)', 'Date': 'Date'},\n",
    "#     markers=True  # Add markers to make data points visible\n",
    "# )\n",
    "\n",
    "# # Customize layout for better readability\n",
    "# fig.update_layout(\n",
    "#     xaxis_title='Date',\n",
    "#     yaxis_title='Price (USD)',\n",
    "#     template='plotly_white',\n",
    "#     hovermode='x unified'\n",
    "# )\n",
    "\n",
    "# # Show the plot\n",
    "# fig.show()\n"
   ]
  },
  {
   "cell_type": "code",
   "execution_count": null,
   "metadata": {},
   "outputs": [],
   "source": []
  }
 ],
 "metadata": {
  "colab": {
   "provenance": [
    {
     "file_id": "1-JAsHjT8O7zIr6ljli2fJCMiJ6W8hsmG",
     "timestamp": 1739913749913
    }
   ]
  },
  "kernelspec": {
   "display_name": "Python 3 (ipykernel)",
   "language": "python",
   "name": "python3"
  },
  "language_info": {
   "codemirror_mode": {
    "name": "ipython",
    "version": 3
   },
   "file_extension": ".py",
   "mimetype": "text/x-python",
   "name": "python",
   "nbconvert_exporter": "python",
   "pygments_lexer": "ipython3",
   "version": "3.8.20"
  }
 },
 "nbformat": 4,
 "nbformat_minor": 4
}
